{
 "cells": [
  {
   "cell_type": "markdown",
   "id": "6f97b24d-5024-4bd2-9c64-22fee1aa4c44",
   "metadata": {},
   "source": [
    "First create quantum circuit using backend framework. Here we use qiskit."
   ]
  },
  {
   "cell_type": "code",
   "execution_count": 3,
   "id": "73e3dc54-769c-478b-9ff8-d2d920f4c396",
   "metadata": {},
   "outputs": [],
   "source": [
    "from qiskit.circuit.random import random_circuit\n",
    "from qiskit import transpile\n",
    "from qiskit_aer import Aer\n",
    "\n",
    "circ = random_circuit(12, 10, measure=False, max_operands=2)\n",
    "backend = Aer.get_backend(\"aer_simulator\")\n",
    "circ = transpile(circ, backend=backend)"
   ]
  },
  {
   "cell_type": "markdown",
   "id": "4de59589-c3ca-4b67-a94d-956cdef1de9b",
   "metadata": {},
   "source": [
    "Create QDAO engine. `num_primary` determines the memory consumption, i.e., determined by $2^{\\text{num\\_primary}} * 16 \\text{ Byte}$.\n",
    "And `num_local` determines the size of storage unit, in QDAO, we actually load many storage units and reorganize them into a partial state vector in memory.\n",
    "That is, the partial state vector size is $2^{\\text{num\\_primary}}$, and it consists of $2^{\\text{num\\_primary} - \\text{num\\_local}}$ storage units.\n",
    "Setting `num_local` too small will incur significant performance degradation."
   ]
  },
  {
   "cell_type": "code",
   "execution_count": 5,
   "id": "5277e594-96b9-47f7-bad8-60c456057c27",
   "metadata": {},
   "outputs": [],
   "source": [
    "from qdao import Engine\n",
    "eng = Engine(circuit=circ, num_primary=10, num_local=8)\n",
    "eng.run()"
   ]
  }
 ],
 "metadata": {
  "kernelspec": {
   "display_name": "Python 3 (ipykernel)",
   "language": "python",
   "name": "python3"
  },
  "language_info": {
   "codemirror_mode": {
    "name": "ipython",
    "version": 3
   },
   "file_extension": ".py",
   "mimetype": "text/x-python",
   "name": "python",
   "nbconvert_exporter": "python",
   "pygments_lexer": "ipython3",
   "version": "3.10.12"
  }
 },
 "nbformat": 4,
 "nbformat_minor": 5
}
